{
 "cells": [
  {
   "cell_type": "code",
   "execution_count": 26,
   "id": "5e229c2d",
   "metadata": {},
   "outputs": [],
   "source": [
    "#data_path_all is the Anndata object containing all cells\n",
    "#data_path_meta is the Anndata object conta \n",
    "#assign_path is the metadata\n",
    "#metacell_types_path gives the cell types of the metacells\n",
    "import numpy as np\n",
    "import pandas as pd\n",
    "import anndata as ad\n",
    "import matplotlib.pyplot as plt\n",
    "import matplotlib.colors as colors\n",
    "import seaborn as sns\n",
    "import scipy\n",
    "\n",
    "data_path_all = '/home/labs/shlush/shared/runs_analysis/Metacells_Models/Nili_Human/data_July_2023/all_cells_fil2_500000_cdata_output_with_cell_type_exp_indiv_new.h5ad'\n",
    "data_path_meta = '/home/labs/shlush/shared/runs_analysis/Metacells_Models/Nili_Human/data_July_2023/all_cells_fil2_500000_mdata_output_with_type_new.h5ad'\n",
    "assign_path = '/home/labs/shlush/shared/runs_analysis/Metacells_Models/Nili_Human/cell_metadata'\n",
    "metacell_types_path = '/home/labs/shlush/tomerlev/LOY/metacell_types-2023-03-16.csv'\n",
    "all_cells = ad.read_h5ad(data_path_all)\n",
    "metacells = ad.read_h5ad(data_path_meta)\n",
    "\n",
    "#UMI benchmark. UMI>benchmark is kept\n",
    "benchmark=-1"
   ]
  },
  {
   "cell_type": "code",
   "execution_count": null,
   "id": "db8b2f6d",
   "metadata": {
    "scrolled": true
   },
   "outputs": [],
   "source": [
    "#find out cell type\n",
    "cells_to_meta_df = pd.DataFrame()\n",
    "cells_to_meta_df['cnames'] = all_cells.obs['cnames']\n",
    "cells_to_meta_df['metacell'] = all_cells.obs['metacell']\n",
    "\n",
    "metacell_label_df = pd.read_csv(metacell_types_path)\n",
    "meta_type_dict = {}\n",
    "for _, row in metacell_label_df.iterrows():\n",
    "    meta_type_dict[row['metacell']] = row['cell_type']\n",
    "\n",
    "cell_types = []\n",
    "for _, row in cells_to_meta_df.iterrows():\n",
    "    try:\n",
    "        cell_types.append(meta_type_dict[row['metacell']])\n",
    "    except:\n",
    "        cell_types.append('unassigned')\n",
    "cells_to_meta_df['cell_type'] = cell_types\n",
    "cells_to_meta_df.tail()\n",
    "\n",
    "cells_to_meta_df.to_csv(\"cells_to_type.csv\", index=False)"
   ]
  },
  {
   "cell_type": "code",
   "execution_count": null,
   "id": "149c14d8",
   "metadata": {},
   "outputs": [],
   "source": [
    "#input genes from a chromosome as a list into entries. Make sure to get rid of genes you don't want (in our case it was SLC25A6 and CD99)\n",
    "#input gene \"synonyms\" (e.g. ACOD1 and IRG1)\n",
    "\n",
    "\n",
    "all_cells_genes = all_cells.var_names\n",
    "metacell_genes = metacells.var_names\n",
    "meta_sm = metacells.X\n",
    "ygenes1=['LOC124905300', 'PLCXD1', 'GTPBP6', 'LINC00685', 'PPP2R3B', 'LOC102724521', 'SHOX', 'CRLF2', 'CSF2RA', 'LOC124905238', 'MIR3690', 'IL3RA', 'LOC101928032', 'LOC105373102', 'LINC00106', 'ASMTL-AS1', 'ASMTL', 'P2RY8', 'AKAP17A', 'ASMT', 'LINC02968', 'LOC105379413', 'LOC107985677', 'DHRSX', 'LOC124905239', 'ZBED1', 'LOC101928092', 'MIR6089', 'CD99P1', 'LINC00102', 'XGY2', 'SRY', 'RPS4Y1', 'ZFY', 'ZFY-AS1', 'LINC00278', 'TGIF2LY', 'LOC105377227', 'MIR9985', 'PCDH11Y', 'TTTY23B', 'TSPY2', 'FAM197Y9', 'LINC00280', 'LOC107987353', 'TTTY1B', 'TTTY2B', 'TTTY21B', 'TTTY7', 'TTTY8B', 'AMELY', 'TBL1Y', 'PRKY', 'LOC107987338', 'TTTY16', 'LOC107987339', 'TTTY12', 'LOC105377229', 'LOC105377231', 'LOC105377232', 'LOC107987354', 'LINC00279', 'LOC107987340', 'TTTY18', 'LOC105377234', 'TTTY19', 'LOC105377235', 'TTTY11', 'LOC105379264', 'LOC105379265', 'LOC105379266', 'LOC105379267', 'RBMY1A3P', 'TTTY20', 'TSPY4', 'FAM197Y8', 'TSPY8', 'FAM197Y7', 'FAM197Y6', 'TSPY3', 'FAM197Y5', 'TSPY1', 'FAM197Y4', 'TSPY9', 'FAM197Y3', 'FAM197Y2', 'TSPY10', 'RBMY3AP', 'TTTY8', 'TTTY7B', 'TTTY21', 'TTTY2', 'TTTY1', 'LOC107987342', 'TTTY22', 'TTTY23', 'LOC105379273', 'LOC107987343', 'GYG2P1', 'LOC112268311', 'TTTY15', 'USP9Y', 'DDX3Y', 'LOC112268312', 'UTY', 'MIR12120', 'TMSB4Y', 'VCY', 'VCY1B', 'NLGN4Y', 'NLGN4Y-AS1', 'LOC107987355', 'LOC124900508', 'FAM41AY1', 'LOC105377217', 'FAM224B', 'LOC105377218', 'LOC124905302', 'XKRY', 'CDY2B', 'CDY2A', 'XKRY2', 'LOC124905303', 'LOC105377219', 'FAM224A', 'LOC105377220', 'FAM41AY2', 'LOC124905304', 'HSFY1', 'TTTY9B', 'TTTY9A', 'HSFY2', 'LOC124905305', 'LOC124905307', 'TTTY14', 'LOC124905306', 'BCORP1', 'LOC102723934', 'LOC105377223', 'TXLNGY', 'KDM5D', 'LOC105377224', 'TTTY10', 'EIF1AY', 'RPS4Y2', 'LOC105377225', 'LOC107987346', 'LOC107987347', 'PRORY', 'RBMY2EP', 'RBMY1B', 'RBMY1A1', 'TTTY13', 'LOC105377236', 'LOC105377237', 'RBMY1D', 'RBMY1E', 'LOC107987356', 'PRY2', 'LOC102725532', 'TTTY6B', 'RBMY1F', 'TTTY5', 'RBMY2FP', 'LOC100652931', 'RBMY1J', 'LOC101929148', 'TTTY6', 'PRY', 'LOC107987357', 'LOC107987348', 'TTTY17A', 'TTTY4', 'BPY2', 'LOC105377238', 'DAZ1', 'DAZ2', 'LOC105377239', 'LOC124900506', 'REREP1Y', 'LOC107987349', 'TTTY3B', 'CDY1B', 'GOLGA2P2Y', 'LOC107987350', 'TTTY17B', 'TTTY4B', 'BPY2B', 'LOC105377241', 'DAZ3', 'DAZ4', 'LOC105377242', 'BPY2C', 'TTTY4C', 'TTTY17C', 'SEPTIN14P23', 'GOLGA2P3Y', 'CSPG4P1Y', 'CDY1', 'TTTY3', 'LOC107987352', 'REREP2Y', 'LOC124900507', 'LOC105377244', 'SPRY3', 'VAMP7', 'IL9R', 'WASIR1', 'DDX11L16']\n",
    "ygenes2=['PLCXD1', 'GTPBP6', 'LINC00685', 'PPP2R3B', 'SHOX', 'CRLF2', 'CSF2RA', 'MIR3690', 'IL3RA', 'LINC00106', 'ASMTL-AS1', 'ASMTL', 'P2RY8', 'AKAP17A', 'ASMT', 'DHRSX', 'ZBED1', 'MIR6089', 'CD99P1', 'LINC00102', 'XGY2', 'SRY', 'RPS4Y1', 'ZFY', 'ZFY-AS1', 'LINC00278', 'TGIF2LY', 'MIR9985', 'PCDH11Y', 'TTTY23B', 'TSPY2', 'FAM197Y9', 'LINC00280', 'TTTY1B', 'TTTY2B', 'TTTY21B', 'TTTY7', 'TTTY8B', 'AMELY', 'TBL1Y', 'PRKY', 'TTTY16', 'TTTY12', 'LINC00279', 'TTTY18', 'TTTY19', 'TTTY11', 'RBMY1A3P', 'TTTY20', 'TSPY4', 'FAM197Y8', 'TSPY8', 'FAM197Y7', 'FAM197Y6', 'TSPY3', 'FAM197Y5', 'TSPY1', 'FAM197Y4', 'TSPY9', 'FAM197Y3', 'FAM197Y2', 'TSPY10', 'RBMY3AP', 'TTTY8', 'TTTY7B', 'TTTY21', 'TTTY2', 'TTTY1', 'TTTY22', 'TTTY23', 'GYG2P1', 'TTTY15', 'USP9Y', 'DDX3Y', 'UTY', 'MIR12120', 'TMSB4Y', 'VCY', 'VCY1B', 'NLGN4Y', 'NLGN4Y-AS1', 'FAM41AY1', 'FAM224B', 'XKRY', 'CDY2B', 'CDY2A', 'XKRY2', 'FAM224A', 'FAM41AY2', 'HSFY1', 'TTTY9B', 'TTTY9A', 'HSFY2', 'TTTY14', 'BCORP1', 'TXLNGY', 'KDM5D', 'TTTY10', 'EIF1AY', 'RPS4Y2', 'PRORY', 'RBMY2EP', 'RBMY1B', 'RBMY1A1', 'TTTY13', 'RBMY1D', 'RBMY1E', 'PRY2', 'TTTY6B', 'RBMY1F', 'TTTY5', 'RBMY2FP', 'LOC100652931', 'RBMY1J', 'LOC101929148', 'TTTY6', 'PRY', 'TTTY17A', 'TTTY4', 'BPY2', 'DAZ1', 'DAZ2', 'TTTY3B', 'CDY1B', 'GOLGA2P2Y', 'TTTY17B', 'TTTY4B', 'BPY2B', 'DAZ3', 'DAZ4', 'BPY2C', 'TTTY4C', 'TTTY17C', 'SEPTIN14P23', 'GOLGA2P3Y', 'CSPG4P1Y', 'CDY1', 'TTTY3', 'SPRY3', 'VAMP7', 'IL9R', 'WASIR1', 'DDX11L16']\n",
    "entries=(list(set(ygenes1)|set(ygenes2)))\n",
    "\n",
    "synonyms = [\"TSPY9P\"]\n",
    "og_chry_gene_names = set(entries)\n",
    "\n",
    "\n",
    "not_included = set([])\n",
    "included = set([])\n",
    "\n",
    "#detect if chromsome genes are in the anndata gene list\n",
    "#chry_gene_names is the y chromsome gene names in the anndata gene list\n",
    "#subset_df is the dataframe containing gene expression of Y chromosome genes\n",
    "for gene in og_chry_gene_names:\n",
    "    if gene in all_cells_genes:\n",
    "        included.add(gene)  # if y-chr gene, put in included\n",
    "    else: not_included.add(gene) # else, not_included -- doesn't add not included synonyms\n",
    "\n",
    "for gene in synonyms:\n",
    "    if gene in all_cells_genes:\n",
    "        included.add(gene)\n",
    "\n",
    "chry_gene_names = included \n",
    "\n",
    "subset = all_cells[all_cells.obs_names,list(chry_gene_names)] # gives subset of anndata object including only \"included\" y-cgenes\n",
    "\n",
    "subset_df = pd.DataFrame.sparse.from_spmatrix(subset.X, columns=subset.var_names)\n",
    "subset_df.index = subset.obs_names"
   ]
  },
  {
   "cell_type": "code",
   "execution_count": null,
   "id": "6f21b151",
   "metadata": {},
   "outputs": [],
   "source": [
    "#creating a DF with UMI and total UMi for each Y gene from every cell\n",
    "cells_counts_df = subset_df\n",
    "\n",
    "#adding all UMI's per Y gene, concat to different dataframe\n",
    "umi_sum=list(cells_counts_df.sum())\n",
    "umi_sum=pd.DataFrame(umi_sum)\n",
    "umi_sum=umi_sum.transpose()\n",
    "\n",
    "\n",
    "umi_sum.columns=cells_counts_df.columns\n",
    "cells_counts_df=pd.concat([cells_counts_df,umi_sum])\n",
    "new_names={0:\"Total UMI\"}\n",
    "cells_counts_df=cells_counts_df.rename(index=new_names)\n",
    "\n",
    "temp_df=subset_df\n",
    "cells_expressed=[(temp_df[col]>0.0).sum() for col in temp_df.columns]\n",
    "cells_expressed=pd.DataFrame(cells_expressed)\n",
    "cells_expressed=cells_expressed.transpose()\n",
    "cells_expressed.columns=cells_counts_df.columns\n",
    "cells_counts_df=pd.concat([cells_counts_df,cells_expressed])\n",
    "\n",
    "new_names={0:\"Number of Cells Expressing Gene\"}\n",
    "cells_counts_df=cells_counts_df.rename(index=new_names)\n",
    "#cells_counts_df contains the gene expression data for all Y genes and has two additional rows, Total UMI of y genes and number of cells expressing the y gene"
   ]
  },
  {
   "cell_type": "code",
   "execution_count": null,
   "id": "cbf9e059",
   "metadata": {},
   "outputs": [],
   "source": [
    "#creating a DF with UMI and total UMi for each gene from every cell\n",
    "alldf=pd.DataFrame.sparse.from_spmatrix(all_cells.X, columns=all_cells.var_names)\n",
    "alldf.index = subset.obs_names\n",
    "alldf1 = alldf\n",
    "umi_sum1=list(alldf1.sum())\n",
    "umi_sum1=pd.DataFrame(umi_sum1)\n",
    "umi_sum1=umi_sum1.transpose()\n",
    "\n",
    "umi_sum1.columns=alldf1.columns\n",
    "alldf1=pd.concat([alldf1,umi_sum1])\n",
    "new_names={0:\"Total UMI\"}\n",
    "alldf1=alldf1.rename(index=new_names)"
   ]
  },
  {
   "cell_type": "code",
   "execution_count": 93,
   "id": "b2fb6397",
   "metadata": {},
   "outputs": [],
   "source": [
    "#sexlist is list of sex for every cell, agelist is list for every age\n",
    "#ydf is cells_counts_df but a column of Sex and Age for cells is added\n",
    "#alldf1 is alldf but with Sex and Age with only Gene Expression\n",
    "ydf=cells_counts_df\n",
    "metadata_df = pd.read_csv(assign_path, sep=\" \", header=0)\n",
    "samplesex=metadata_df['sex']\n",
    "sexlist=samplesex.to_list()\n",
    "sexlist.append(\"Total UMI\")\n",
    "sexlist.append(\"Number of Cells Expressing Gene\")\n",
    "agelist=metadata_df['age'].to_list()\n",
    "agelist.append(\"Total UMI\")\n",
    "agelist.append(\"Number of Cells Expressing Gene\")\n",
    "ydf[\"Sex\"]=sexlist\n",
    "ydf[\"Age\"]=agelist\n",
    "mydf=ydf[ydf[\"Sex\"]==\"male\"]\n",
    "fydf=ydf[ydf[\"Sex\"]==\"female\"]\n",
    "nydf=ydf[ydf[\"Sex\"].isna()]\n",
    "len(mydf.index.to_list())+len(fydf.index.to_list())+len(nydf.index.to_list())\n",
    "sexlist1=sexlist\n",
    "sexlist1.remove('Number of Cells Expressing Gene')\n",
    "\n",
    "agelist1=agelist\n",
    "agelist1.remove('Number of Cells Expressing Gene')\n",
    "alldf1['Sex']=sexlist1\n",
    "alldf1['Age']=agelist1\n",
    "tempdf1=alldf1\n",
    "tempdf1.drop('Sex', axis=1,inplace=True)\n",
    "tempdf1.drop('Age', axis=1,inplace=True)"
   ]
  },
  {
   "cell_type": "code",
   "execution_count": null,
   "id": "92d021f5",
   "metadata": {},
   "outputs": [],
   "source": [
    "#list of total umis per cell\n",
    "totalumis=scipy.sparse.csr_matrix.sum(all_cells.X,axis=1)\n",
    "\n",
    "totalumis=totalumis.tolist()\n",
    "\n",
    "umisum=[]\n",
    "for i in range (0,360810):\n",
    "    umisum.append(totalumis[i][0])\n",
    "    \n",
    "tempydf=ydf\n",
    "yumisum=list(tempydf.sum(axis=1))\n",
    "\n",
    "yumisum.pop()\n",
    "yumisum.pop()\n",
    "\n",
    "#Calculating Y Score\n",
    "yscorelist=[]\n",
    "for i in range (0,360810):\n",
    "    if totalumis[i][0]==0:\n",
    "        yscorelist.append(0)\n",
    "    else:\n",
    "        yscorelist.append(yumisum[i]/totalumis[i][0])\n",
    "        \n",
    "cellids=tempdf1.index.tolist()\n",
    "cellids.pop()"
   ]
  },
  {
   "cell_type": "code",
   "execution_count": 103,
   "id": "4c50d7d7",
   "metadata": {},
   "outputs": [],
   "source": [
    "#return indices of cells to keep after filtering by UMI benchmark for every cell in keepindices\n",
    "keepindices=[]\n",
    "for i in range(0,len(totalumis)):\n",
    "    if totalumis[i][0]>UMIbenchmark:\n",
    "         keepindices.append(i)\n",
    "\n",
    "#returns list of yscores of cells after filter in keepyscorelist\n",
    "#returns list of cellids of cells after filter in keepcellids\n",
    "keepyscorelist=[]\n",
    "keepcellids=[]\n",
    "for i in keepindices:\n",
    "    keepyscorelist.append(yscorelist[i])\n",
    "    keepcellids.append(cellids[i])\n",
    "\n",
    "#yscoredf: Dataframe with each filtered cell and its Y score\n",
    "yscoredf=pd.DataFrame(keepcellids,columns=[\"Cell ID\"])\n",
    "yscoredf['Y Score']=keepyscorelist\n",
    "\n",
    "data = {\n",
    "    'Cell ID': cellids,\n",
    "    'Y Score': yscorelist\n",
    "}\n",
    "\n",
    "yscoredf = pd.DataFrame(data)\n",
    "\n",
    "#csv of cell and Y score\n",
    "yscoredf.to_csv(\"New Y Score.csv\",float_format='%.100g',index=True)"
   ]
  },
  {
   "cell_type": "code",
   "execution_count": 110,
   "id": "fb89e12d",
   "metadata": {},
   "outputs": [],
   "source": [
    "#indices and list of sex of cells\n",
    "sexlist1=samplesex.to_list()\n",
    "agelist1=metadata_df['age'].to_list()\n",
    "sexlist1.append(\"Total UMI\")\n",
    "agelist1.append(\"Total UMI\")\n",
    "alldf1['Sex']=sexlist1\n",
    "alldf1['Age']=agelist1\n",
    "sexlistonly=sexlist1\n",
    "sexlistonly.pop()\n",
    "\n",
    "maleindices=[]\n",
    "femaleindices=[]\n",
    "naindices=[]\n",
    "for i in range (0,360810):\n",
    "    if sexlistonly[i]==\"male\":\n",
    "        maleindices.append(i)\n",
    "    elif sexlistonly[i]==\"female\":\n",
    "        femaleindices.append(i)\n",
    "    else:\n",
    "        naindices.append(i)"
   ]
  },
  {
   "cell_type": "code",
   "execution_count": 118,
   "id": "6d41086a",
   "metadata": {},
   "outputs": [],
   "source": [
    "maleindices=list(set(maleindices).intersection(set(keepindices)))\n",
    "femaleindices=list(set(femaleindices).intersection(set(keepindices)))\n",
    "naindices=list(set(naindices).intersection(set(keepindices)))"
   ]
  },
  {
   "cell_type": "code",
   "execution_count": 120,
   "id": "e209750e",
   "metadata": {},
   "outputs": [],
   "source": [
    "#generate list of umis of male cells and list of umi of female cells. Do the same for Y-umis and then Y-scores\n",
    "maleumis=[]\n",
    "maleyumis=[]\n",
    "maleyscores=[]\n",
    "for i in maleindices:\n",
    "    maleumis.append(umisum[i])\n",
    "    maleyumis.append(yumisum[i])\n",
    "    maleyscores.append(yscorelist[i])\n",
    "femaleumis=[]\n",
    "femaleyumis=[]\n",
    "femaleyscores=[]\n",
    "for i in femaleindices:\n",
    "    femaleumis.append(umisum[i])\n",
    "    femaleyumis.append(yumisum[i])\n",
    "    femaleyscores.append(yscorelist[i])"
   ]
  },
  {
   "cell_type": "code",
   "execution_count": 132,
   "id": "849bac2d",
   "metadata": {},
   "outputs": [],
   "source": [
    "sns.set_style(\"whitegrid\")"
   ]
  },
  {
   "cell_type": "code",
   "execution_count": null,
   "id": "98256783",
   "metadata": {
    "scrolled": false
   },
   "outputs": [],
   "source": [
    "#Make density plot of male cell total UMIs compared to female cell total UMIs\n",
    "fig, ax = plt.subplots(figsize=(12,9))\n",
    "sns.kdeplot(np.array(maleumis), shade=True, color='blue', label='Male', ax=ax)\n",
    "sns.kdeplot(np.array(femaleumis), shade=True, color='red', label='Female', ax=ax)\n",
    "ax.legend()\n",
    "ax.set_title('Male vs Female Cells Total UMIs')\n",
    "plt.savefig('Male vs Female Cells Total UMIs.png')\n",
    "plt.show()\n",
    "plt.savefig('Male vs Female Total UMIs.png')"
   ]
  },
  {
   "cell_type": "code",
   "execution_count": null,
   "id": "3f0a7b65",
   "metadata": {
    "scrolled": false
   },
   "outputs": [],
   "source": [
    "#Make histogram of male cell total Y-UMIs compared to female cell total Y-UMIs\n",
    "fig, ax = plt.subplots(figsize=(12,9))\n",
    "sns.histplot(np.array(maleyumis), bins=np.arange(min(np.array(maleyumis)), max(np.array(maleyumis)) + 1, 1), color='blue', alpha=0.7, label='Male', ax=ax)\n",
    "sns.histplot(np.array(femaleyumis), bins=np.arange(min(np.array(femaleyumis)), max(np.array(femaleyumis)) + 1, 1), color='red', alpha=0.6, label='Female', ax=ax)\n",
    "ax.legend()\n",
    "ax.set_title('Male vs Female Cells Total Y-UMIs')\n",
    "plt.savefig('Male vs Female Cells Total Y-UMIs.png')\n",
    "plt.show()"
   ]
  },
  {
   "cell_type": "code",
   "execution_count": null,
   "id": "b69e2be5",
   "metadata": {},
   "outputs": [],
   "source": [
    "#Make density plot of male cell Y-Scores compared to female cell Y-Scores\n",
    "fig, ax = plt.subplots(figsize=(12,9))\n",
    "sns.kdeplot(np.array(maleyscores), shade=True, color='blue', label='Male', ax=ax)\n",
    "sns.kdeplot(np.array(femaleyscores), shade=True, color='red', label='Female', ax=ax)\n",
    "ax.legend()\n",
    "ax.set_title('Male vs Female Cells Y-Scores')\n",
    "plt.savefig('Male vs Female Cells Y-Scores.png')\n",
    "plt.show()\n"
   ]
  },
  {
   "cell_type": "code",
   "execution_count": 137,
   "id": "b37e4fa2",
   "metadata": {},
   "outputs": [],
   "source": [
    "#Generate Y-UMIs and Y-scores of cells for males and females\n",
    "tempydf1=tempydf\n",
    "yumisum1=tempydf1.sum(axis=1)\n",
    "yumisum1=yumisum1.tolist()\n",
    "maleyumis1=[]\n",
    "for i in maleindices:\n",
    "    maleyumis1.append(yumisum1[i])\n",
    "femaleyumis1=[]\n",
    "for i in femaleindices:\n",
    "    femaleyumis1.append(yumisum1[i])\n",
    "maleyscores1=[]\n",
    "for i in maleindices:\n",
    "    if umisum[i]==0:\n",
    "        maleyscores1.append(0)\n",
    "    else:\n",
    "        maleyscores1.append(yumisum1[i]/umisum[i])\n",
    "femaleyscores1=[]\n",
    "for i in femaleindices:\n",
    "    if umisum[i]==0:\n",
    "        femaleyscores1.append(0)\n",
    "    else:\n",
    "        femaleyscores1.append(yumisum1[i]/umisum[i])\n"
   ]
  },
  {
   "cell_type": "code",
   "execution_count": null,
   "id": "6eb16510",
   "metadata": {},
   "outputs": [],
   "source": [
    "#generate total umis per gene for male and female cells\n",
    "maletotalumis=mydf.sum().tolist()\n",
    "maletotalumis.pop()\n",
    "maletotalumis.pop()\n",
    "femaletotalumis=fydf.sum().tolist()#umis per gene for male\n",
    "femaletotalumis.pop()\n",
    "femaletotalumis.pop()"
   ]
  },
  {
   "cell_type": "code",
   "execution_count": null,
   "id": "0d637d23",
   "metadata": {},
   "outputs": [],
   "source": [
    "ygenenames=fydf.columns.tolist()\n",
    "ygenenames.pop()\n",
    "ygenenames.pop()"
   ]
  },
  {
   "cell_type": "code",
   "execution_count": null,
   "id": "31cb7657",
   "metadata": {
    "scrolled": false
   },
   "outputs": [],
   "source": [
    "#generate bar graph that shows the total UMI for every Y gene\n",
    "plt.figure(figsize=(25,10))\n",
    "sns.barplot(x=ygenenames,y=femaletotalumis,color='blue')\n",
    "plt.title('Total UMIs of Y Chromosome Genes Among Women')\n",
    "plt.xlabel('Y Chromosome Genes')\n",
    "plt.ylabel('Total UMIs')\n",
    "plt.xticks(rotation='vertical')\n",
    "plt.savefig('Total UMIs of Y Chromosome Genes Among Women')\n",
    "plt.show()"
   ]
  },
  {
   "cell_type": "code",
   "execution_count": null,
   "id": "e94e4dd6",
   "metadata": {},
   "outputs": [],
   "source": [
    "#generate dataframes of UMI, Y-UMI, and Y-Score with ages if nakes\n",
    "agelist.pop()\n",
    "maleages=[]\n",
    "for i in maleindices:\n",
    "    maleages.append(agelist[i])\n",
    "    ageyumi=pd.DataFrame(maleages,columns=['Age'])\n",
    "ageyumi['Y-UMI']=maleyumis\n",
    "ageyumi1=pd.DataFrame(maleages,columns=['Age'])\n",
    "ageyumi1['Y-UMI']=maleyumis1\n",
    "ageumi=pd.DataFrame(maleages,columns=['Age'])\n",
    "ageumi['UMI']=maleumis\n",
    "ageyscore=pd.DataFrame(maleages,columns=['Age'])\n",
    "ageyscore['Y-Score']=maleyscores\n",
    "ageyscore1=pd.DataFrame(maleages,columns=['Age'])\n",
    "ageyscore1['Y-Score']=maleyscores1"
   ]
  },
  {
   "cell_type": "code",
   "execution_count": null,
   "id": "9d0e9a68",
   "metadata": {},
   "outputs": [],
   "source": [
    "ageyumidf1 = ageyumi1.groupby(['Age', 'Y-UMI']).size().reset_index(name='Count')#769"
   ]
  },
  {
   "cell_type": "code",
   "execution_count": null,
   "id": "4ea36523",
   "metadata": {},
   "outputs": [],
   "source": [
    "ageyumi1.groupby(['Age', 'Y-UMI']).size().reset_index(name='Count')#769\n",
    "ageumidf = ageumi.groupby(['Age', 'UMI']).size().reset_index(name='Count')#769\n",
    "ageumidf = ageumi.groupby(['Age', 'UMI']).size().reset_index(name='Count')#769\n",
    "ageyumidf = ageyumi.groupby(['Age', 'Y-UMI']).size().reset_index(name='Count')#769\n",
    "ageyumidf1 = ageyumi1.groupby(['Age', 'Y-UMI']).size().reset_index(name='Count')#769\n",
    "ageyscoredf = ageyscore.groupby(['Age', 'Y-Score']).size().reset_index(name='Count')#769\n",
    "ageyscoredf1 = ageyscore1.groupby(['Age', 'Y-Score']).size().reset_index(name='Count')#769"
   ]
  },
  {
   "cell_type": "code",
   "execution_count": null,
   "id": "06298f48",
   "metadata": {
    "scrolled": false
   },
   "outputs": [],
   "source": [
    "#Age vs Total Y-umi scatterplot\n",
    "plt.figure(figsize=(10,6))\n",
    "sns.scatterplot(x=ageyumidf[\"Age\"].values.flatten().tolist(), y=ageyumidf[\"Y-UMI\"].values.flatten().tolist(), size=ageyumidf[\"Count\"].values.flatten().tolist())\n",
    "plt.title('Male Cells Ages vs Total Y-UMIs')\n",
    "plt.xlabel('Age')\n",
    "plt.ylabel('Y-UMIs')\n",
    "plt.savefig('Male Cells Ages vs Total Y-UMIs.png')\n",
    "plt.show()"
   ]
  },
  {
   "cell_type": "code",
   "execution_count": null,
   "id": "2dceca9e",
   "metadata": {},
   "outputs": [],
   "source": [
    "#Age vs Total Y-umi density plot\n",
    "plt.figure(figsize=(10, 10))\n",
    "sns.jointplot(x=ageumidf[\"Age\"].values.flatten().tolist(), y=ageumidf[\"UMI\"].values.flatten().tolist(),kind=\"kde\",shade=True,height=12)\n",
    "plt.title('Male Cells Ages vs Total UMIs')\n",
    "plt.xlabel('Age')\n",
    "plt.ylabel('UMIs')\n",
    "plt.savefig('Male Cells Ages vs Total UMIs.png')\n",
    "plt.show()"
   ]
  },
  {
   "cell_type": "code",
   "execution_count": null,
   "id": "d5182fe9",
   "metadata": {},
   "outputs": [],
   "source": [
    "#Age vs Y-score density plot\n",
    "plt.figure(figsize=(10, 10))\n",
    "sns.jointplot(x=ageyscoredf[\"Age\"].values.flatten().tolist(), y=ageyscoredf[\"Y-Score\"].values.flatten().tolist(),kind=\"kde\",shade=True,height=12)\n",
    "plt.title('Male Cells Ages vs Y-Scores')\n",
    "plt.xlabel('Age')\n",
    "plt.ylabel('Y-Scores')\n",
    "plt.savefig('Male Cells Ages vs Y-Scores.png')\n",
    "plt.show()"
   ]
  },
  {
   "cell_type": "code",
   "execution_count": null,
   "id": "326a762c",
   "metadata": {},
   "outputs": [],
   "source": [
    "#UMI vs Y-UMI scatterplot\n",
    "plt.figure(figsize=(15,15))\n",
    "plt.xlim(0, 10000)#axis limits\n",
    "plt.ylim(0, 25)\n",
    "sns.scatterplot(x=maleumis, y=maleyumis,alpha=0.005)\n",
    "sns.scatterplot(x=femaleumis, y=femaleyumis,color=\"red\",alpha=0.005)\n",
    "plt.title('UMI vs Y-UMI')\n",
    "plt.xlabel('UMI')\n",
    "plt.ylabel('Y-UMI')\n",
    "plt.savefig('Male Cells UMI vs Y-UMI Without Outliers.png')\n",
    "plt.show()"
   ]
  },
  {
   "cell_type": "code",
   "execution_count": 170,
   "id": "5d9f0406",
   "metadata": {},
   "outputs": [],
   "source": [
    "data = {\n",
    "    'Male UMIs': maleumis,\n",
    "    'Male Y-UMIs': maleyumis\n",
    "\n",
    "}\n",
    "umiGraph_df = pd.DataFrame(data)\n",
    "umiGraph_df.to_csv('UMI Graph DF.csv')"
   ]
  },
  {
   "cell_type": "code",
   "execution_count": null,
   "id": "3b135ea8",
   "metadata": {},
   "outputs": [],
   "source": [
    "#Graph to create represent UMI vs Y-UMI using bars for various Y-UMIs\n",
    "#Data\n",
    "x = maleumis\n",
    "y = maleyumis\n",
    "\n",
    "#Bottom positions for each bar\n",
    "bottom_positions = [0] * len(x)\n",
    "for i in range(1, len(x)):\n",
    "    bottom_positions[i] = bottom_positions[i-1] + y[i-1]\n",
    "    \n",
    "#Create the plot\n",
    "fig, ax = plt.subplots()\n",
    "\n",
    "#Plot the bars\n",
    "ax.bar(x, y, bottom=bottom_positions)\n",
    "\n",
    "plt.show()"
   ]
  }
 ],
 "metadata": {
  "kernelspec": {
   "display_name": "Python 3 (ipykernel)",
   "language": "python",
   "name": "python3"
  },
  "language_info": {
   "codemirror_mode": {
    "name": "ipython",
    "version": 3
   },
   "file_extension": ".py",
   "mimetype": "text/x-python",
   "name": "python",
   "nbconvert_exporter": "python",
   "pygments_lexer": "ipython3",
   "version": "3.9.1"
  }
 },
 "nbformat": 4,
 "nbformat_minor": 5
}
